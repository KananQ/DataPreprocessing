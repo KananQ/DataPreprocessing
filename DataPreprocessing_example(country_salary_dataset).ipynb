{
  "nbformat": 4,
  "nbformat_minor": 0,
  "metadata": {
    "colab": {
      "provenance": []
    },
    "kernelspec": {
      "name": "python3",
      "display_name": "Python 3"
    },
    "language_info": {
      "name": "python"
    }
  },
  "cells": [
    {
      "cell_type": "code",
      "execution_count": 2,
      "metadata": {
        "id": "6peSyumKy8R6"
      },
      "outputs": [],
      "source": [
        "import numpy as np\n",
        "import pandas as pd\n",
        "import matplotlib.pyplot as plt"
      ]
    },
    {
      "cell_type": "code",
      "source": [
        "#Importing the data set\n",
        "dataset = pd.read_csv('/content/Data (2).csv')\n",
        "X = dataset.iloc[:, :-1]\n",
        "y = dataset.iloc[:, -1]"
      ],
      "metadata": {
        "id": "xwH4mU0zzB2Z"
      },
      "execution_count": 6,
      "outputs": []
    },
    {
      "cell_type": "code",
      "source": [
        "print(X)"
      ],
      "metadata": {
        "colab": {
          "base_uri": "https://localhost:8080/"
        },
        "id": "TPj5gLQL6oFD",
        "outputId": "d0f264c0-cedf-4fab-9695-70901955cb0a"
      },
      "execution_count": 7,
      "outputs": [
        {
          "output_type": "stream",
          "name": "stdout",
          "text": [
            "   Country   Age   Salary\n",
            "0   France  44.0  72000.0\n",
            "1    Spain  27.0  48000.0\n",
            "2  Germany  30.0  54000.0\n",
            "3    Spain  38.0  61000.0\n",
            "4  Germany  40.0      NaN\n",
            "5   France  35.0  58000.0\n",
            "6    Spain   NaN  52000.0\n",
            "7   France  48.0  79000.0\n",
            "8  Germany  50.0  83000.0\n",
            "9   France  37.0  67000.0\n"
          ]
        }
      ]
    },
    {
      "cell_type": "code",
      "source": [
        "print(y)"
      ],
      "metadata": {
        "colab": {
          "base_uri": "https://localhost:8080/"
        },
        "id": "9djxBVM-6qbU",
        "outputId": "db66a015-7cca-4be9-e494-2520c66f3f79"
      },
      "execution_count": 8,
      "outputs": [
        {
          "output_type": "stream",
          "name": "stdout",
          "text": [
            "0     No\n",
            "1    Yes\n",
            "2     No\n",
            "3     No\n",
            "4    Yes\n",
            "5    Yes\n",
            "6     No\n",
            "7    Yes\n",
            "8     No\n",
            "9    Yes\n",
            "Name: Purchased, dtype: object\n"
          ]
        }
      ]
    },
    {
      "cell_type": "code",
      "source": [
        "#Taking care of missing data\n",
        "from sklearn.impute import SimpleImputer\n",
        "imputer = SimpleImputer(missing_values=np.nan, strategy='mean')\n",
        "# Convert DataFrame slice to NumPy array before fitting\n",
        "imputer.fit(X.iloc[:, 1:3].values)\n",
        "X.iloc[:, 1:3] = imputer.transform(X.iloc[:, 1:3].values)"
      ],
      "metadata": {
        "id": "ydsbPwVM6ro0"
      },
      "execution_count": 10,
      "outputs": []
    },
    {
      "cell_type": "code",
      "source": [
        "from sklearn.compose import ColumnTransformer\n",
        "from sklearn.preprocessing import OneHotEncoder\n",
        "\n",
        "ct = ColumnTransformer(transformers=[('encoder', OneHotEncoder(), [0])], remainder='passthrough')\n",
        "X = np.array(ct.fit_transform(X))"
      ],
      "metadata": {
        "id": "hdQgmZ5Ck7Ub"
      },
      "execution_count": 13,
      "outputs": []
    },
    {
      "cell_type": "code",
      "source": [
        "print(X)"
      ],
      "metadata": {
        "colab": {
          "base_uri": "https://localhost:8080/"
        },
        "id": "A8YwDnHCnRVb",
        "outputId": "ef6608ea-6d3c-4e53-a09c-5e51a0cb2049"
      },
      "execution_count": 14,
      "outputs": [
        {
          "output_type": "stream",
          "name": "stdout",
          "text": [
            "[[1.00000000e+00 0.00000000e+00 0.00000000e+00 4.40000000e+01\n",
            "  7.20000000e+04]\n",
            " [0.00000000e+00 0.00000000e+00 1.00000000e+00 2.70000000e+01\n",
            "  4.80000000e+04]\n",
            " [0.00000000e+00 1.00000000e+00 0.00000000e+00 3.00000000e+01\n",
            "  5.40000000e+04]\n",
            " [0.00000000e+00 0.00000000e+00 1.00000000e+00 3.80000000e+01\n",
            "  6.10000000e+04]\n",
            " [0.00000000e+00 1.00000000e+00 0.00000000e+00 4.00000000e+01\n",
            "  6.37777778e+04]\n",
            " [1.00000000e+00 0.00000000e+00 0.00000000e+00 3.50000000e+01\n",
            "  5.80000000e+04]\n",
            " [0.00000000e+00 0.00000000e+00 1.00000000e+00 3.87777778e+01\n",
            "  5.20000000e+04]\n",
            " [1.00000000e+00 0.00000000e+00 0.00000000e+00 4.80000000e+01\n",
            "  7.90000000e+04]\n",
            " [0.00000000e+00 1.00000000e+00 0.00000000e+00 5.00000000e+01\n",
            "  8.30000000e+04]\n",
            " [1.00000000e+00 0.00000000e+00 0.00000000e+00 3.70000000e+01\n",
            "  6.70000000e+04]]\n"
          ]
        }
      ]
    },
    {
      "cell_type": "code",
      "source": [
        "#Enocding the Dependent Variable\n",
        "\n",
        "from sklearn.preprocessing import LabelEncoder\n",
        "le = LabelEncoder()\n",
        "y = le.fit_transform(y)"
      ],
      "metadata": {
        "id": "Z4ux3GcXn5DS"
      },
      "execution_count": 15,
      "outputs": []
    },
    {
      "cell_type": "code",
      "source": [
        "print(y)"
      ],
      "metadata": {
        "colab": {
          "base_uri": "https://localhost:8080/"
        },
        "id": "0JSGv0lLooEj",
        "outputId": "5a012f12-3399-458d-f81a-0c93c008e08b"
      },
      "execution_count": 16,
      "outputs": [
        {
          "output_type": "stream",
          "name": "stdout",
          "text": [
            "[0 1 0 0 1 1 0 1 0 1]\n"
          ]
        }
      ]
    },
    {
      "cell_type": "code",
      "source": [
        "#Splitting the dataset into the Training set and Test set\n",
        "\n",
        "from sklearn.model_selection import train_test_split\n",
        "X_train, X_test, y_train, y_test = train_test_split(X, y, test_size=0.2, random_state=42)\n",
        "\n"
      ],
      "metadata": {
        "id": "lQmdobyNopbC"
      },
      "execution_count": 18,
      "outputs": []
    },
    {
      "cell_type": "code",
      "source": [
        "#Feature Scaling\n",
        "\n",
        "from sklearn.preprocessing import StandardScaler\n",
        "sc = StandardScaler()\n",
        "X_train = sc.fit_transform(X_train)\n",
        "X_test = sc.transform(X_test)"
      ],
      "metadata": {
        "id": "lRvb9xw4qZ6s"
      },
      "execution_count": 19,
      "outputs": []
    },
    {
      "cell_type": "code",
      "source": [
        "print(X_train)"
      ],
      "metadata": {
        "colab": {
          "base_uri": "https://localhost:8080/"
        },
        "id": "AqD9XQBLuYQJ",
        "outputId": "519fef70-f567-43a3-dd00-ceea09e9f1a5"
      },
      "execution_count": 20,
      "outputs": [
        {
          "output_type": "stream",
          "name": "stdout",
          "text": [
            "[[ 1.         -0.57735027 -0.57735027 -0.7529426  -0.62603778]\n",
            " [ 1.         -0.57735027 -0.57735027  1.00845381  1.01304295]\n",
            " [ 1.         -0.57735027 -0.57735027  1.79129666  1.83258331]\n",
            " [-1.          1.73205081 -0.57735027 -1.73149616 -1.09434656]\n",
            " [ 1.         -0.57735027 -0.57735027 -0.36152118  0.42765698]\n",
            " [-1.          1.73205081 -0.57735027  0.22561096  0.05040824]\n",
            " [-1.         -0.57735027  1.73205081 -0.16581046 -0.27480619]\n",
            " [-1.         -0.57735027  1.73205081 -0.01359102 -1.32850095]]\n"
          ]
        }
      ]
    },
    {
      "cell_type": "code",
      "source": [
        "print(X_test)"
      ],
      "metadata": {
        "colab": {
          "base_uri": "https://localhost:8080/"
        },
        "id": "gij-7KrNuabH",
        "outputId": "e7107201-0a24-48f5-bcfd-3f366927f1fd"
      },
      "execution_count": 21,
      "outputs": [
        {
          "output_type": "stream",
          "name": "stdout",
          "text": [
            "[[-1.          1.73205081 -0.57735027  2.18271808  2.30089209]\n",
            " [-1.         -0.57735027  1.73205081 -2.3186283  -1.79680973]]\n"
          ]
        }
      ]
    },
    {
      "cell_type": "code",
      "source": [],
      "metadata": {
        "id": "EhTK_I9guccX"
      },
      "execution_count": null,
      "outputs": []
    },
    {
      "cell_type": "code",
      "source": [],
      "metadata": {
        "id": "IzvjuIvMuhpt"
      },
      "execution_count": null,
      "outputs": []
    }
  ]
}